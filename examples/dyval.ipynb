{
 "cells": [
  {
   "cell_type": "code",
   "execution_count": 24,
   "metadata": {},
   "outputs": [
    {
     "name": "stdout",
     "output_type": "stream",
     "text": [
      "Requirement already satisfied: autocorrect==2.6.1 in /opt/app-root/lib/python3.9/site-packages (from -r requirements.txt (line 1)) (2.6.1)\n",
      "Requirement already satisfied: accelerate==0.25.0 in /opt/app-root/lib/python3.9/site-packages (from -r requirements.txt (line 2)) (0.25.0)\n",
      "Requirement already satisfied: datasets==2.15.0 in /opt/app-root/lib/python3.9/site-packages (from -r requirements.txt (line 3)) (2.15.0)\n",
      "Requirement already satisfied: nltk==3.8.1 in /opt/app-root/lib/python3.9/site-packages (from -r requirements.txt (line 4)) (3.8.1)\n",
      "Requirement already satisfied: openai==1.3.7 in /opt/app-root/lib/python3.9/site-packages (from -r requirements.txt (line 5)) (1.3.7)\n",
      "Requirement already satisfied: sentencepiece==0.1.99 in /opt/app-root/lib/python3.9/site-packages (from -r requirements.txt (line 6)) (0.1.99)\n",
      "Requirement already satisfied: tokenizers==0.15.0 in /opt/app-root/lib/python3.9/site-packages (from -r requirements.txt (line 7)) (0.15.0)\n",
      "Requirement already satisfied: torch==2.1.1 in /opt/app-root/lib/python3.9/site-packages (from -r requirements.txt (line 8)) (2.1.1)\n",
      "Requirement already satisfied: tqdm==4.66.1 in /opt/app-root/lib/python3.9/site-packages (from -r requirements.txt (line 9)) (4.66.1)\n",
      "Collecting transformers==4.36.2 (from -r requirements.txt (line 10))\n",
      "  Downloading transformers-4.36.2-py3-none-any.whl.metadata (126 kB)\n",
      "\u001b[2K     \u001b[90m━━━━━━━━━━━━━━━━━━━━━━━━━━━━━━━━━━━━━━━\u001b[0m \u001b[32m126.8/126.8 kB\u001b[0m \u001b[31m4.0 MB/s\u001b[0m eta \u001b[36m0:00:00\u001b[0m\n",
      "\u001b[?25hDownloading transformers-4.36.2-py3-none-any.whl (8.2 MB)\n",
      "\u001b[2K   \u001b[90m━━━━━━━━━━━━━━━━━━━━━━━━━━━━━━━━━━━━━━━━\u001b[0m \u001b[32m8.2/8.2 MB\u001b[0m \u001b[31m86.4 MB/s\u001b[0m eta \u001b[36m0:00:00\u001b[0ma \u001b[36m0:00:01\u001b[0m\n",
      "\u001b[?25hInstalling collected packages: transformers\n",
      "  Attempting uninstall: transformers\n",
      "    Found existing installation: transformers 4.35.2\n",
      "    Uninstalling transformers-4.35.2:\n",
      "      Successfully uninstalled transformers-4.35.2\n",
      "Successfully installed transformers-4.36.2\n",
      "Requirement already satisfied: promptbench in /opt/app-root/lib/python3.9/site-packages (0.0.2)\n",
      "Requirement already satisfied: autocorrect==2.6.1 in /opt/app-root/lib/python3.9/site-packages (from promptbench) (2.6.1)\n",
      "Requirement already satisfied: accelerate==0.25.0 in /opt/app-root/lib/python3.9/site-packages (from promptbench) (0.25.0)\n",
      "Requirement already satisfied: datasets==2.15.0 in /opt/app-root/lib/python3.9/site-packages (from promptbench) (2.15.0)\n",
      "Requirement already satisfied: nltk==3.8.1 in /opt/app-root/lib/python3.9/site-packages (from promptbench) (3.8.1)\n",
      "Requirement already satisfied: openai==1.3.7 in /opt/app-root/lib/python3.9/site-packages (from promptbench) (1.3.7)\n",
      "Requirement already satisfied: sentencepiece==0.1.99 in /opt/app-root/lib/python3.9/site-packages (from promptbench) (0.1.99)\n",
      "Requirement already satisfied: tokenizers==0.15.0 in /opt/app-root/lib/python3.9/site-packages (from promptbench) (0.15.0)\n",
      "Requirement already satisfied: torch==2.1.1 in /opt/app-root/lib/python3.9/site-packages (from promptbench) (2.1.1)\n",
      "Requirement already satisfied: tqdm==4.66.1 in /opt/app-root/lib/python3.9/site-packages (from promptbench) (4.66.1)\n",
      "Collecting transformers==4.35.2 (from promptbench)\n",
      "  Downloading transformers-4.35.2-py3-none-any.whl.metadata (123 kB)\n",
      "\u001b[2K     \u001b[90m━━━━━━━━━━━━━━━━━━━━━━━━━━━━━━━━━━━━━━━\u001b[0m \u001b[32m123.5/123.5 kB\u001b[0m \u001b[31m4.1 MB/s\u001b[0m eta \u001b[36m0:00:00\u001b[0m\n",
      "\u001b[?25hRequirement already satisfied: numpy>=1.17 in /opt/app-root/lib/python3.9/site-packages (from accelerate==0.25.0->promptbench) (1.24.4)\n",
      "Requirement already satisfied: packaging>=20.0 in /opt/app-root/lib/python3.9/site-packages (from accelerate==0.25.0->promptbench) (23.2)\n",
      "Requirement already satisfied: psutil in /opt/app-root/lib/python3.9/site-packages (from accelerate==0.25.0->promptbench) (5.9.8)\n",
      "Requirement already satisfied: pyyaml in /opt/app-root/lib/python3.9/site-packages (from accelerate==0.25.0->promptbench) (6.0.1)\n",
      "Requirement already satisfied: huggingface-hub in /opt/app-root/lib/python3.9/site-packages (from accelerate==0.25.0->promptbench) (0.21.4)\n",
      "Requirement already satisfied: safetensors>=0.3.1 in /opt/app-root/lib/python3.9/site-packages (from accelerate==0.25.0->promptbench) (0.4.2)\n",
      "Requirement already satisfied: pyarrow>=8.0.0 in /opt/app-root/lib/python3.9/site-packages (from datasets==2.15.0->promptbench) (15.0.0)\n",
      "Requirement already satisfied: pyarrow-hotfix in /opt/app-root/lib/python3.9/site-packages (from datasets==2.15.0->promptbench) (0.6)\n",
      "Requirement already satisfied: dill<0.3.8,>=0.3.0 in /opt/app-root/lib/python3.9/site-packages (from datasets==2.15.0->promptbench) (0.3.7)\n",
      "Requirement already satisfied: pandas in /opt/app-root/lib/python3.9/site-packages (from datasets==2.15.0->promptbench) (1.5.3)\n",
      "Requirement already satisfied: requests>=2.19.0 in /opt/app-root/lib/python3.9/site-packages (from datasets==2.15.0->promptbench) (2.31.0)\n",
      "Requirement already satisfied: xxhash in /opt/app-root/lib/python3.9/site-packages (from datasets==2.15.0->promptbench) (3.4.1)\n",
      "Requirement already satisfied: multiprocess in /opt/app-root/lib/python3.9/site-packages (from datasets==2.15.0->promptbench) (0.70.15)\n",
      "Requirement already satisfied: fsspec<=2023.10.0,>=2023.1.0 in /opt/app-root/lib/python3.9/site-packages (from fsspec[http]<=2023.10.0,>=2023.1.0->datasets==2.15.0->promptbench) (2023.10.0)\n",
      "Requirement already satisfied: aiohttp in /opt/app-root/lib/python3.9/site-packages (from datasets==2.15.0->promptbench) (3.9.3)\n",
      "Requirement already satisfied: click in /opt/app-root/lib/python3.9/site-packages (from nltk==3.8.1->promptbench) (8.0.4)\n",
      "Requirement already satisfied: joblib in /opt/app-root/lib/python3.9/site-packages (from nltk==3.8.1->promptbench) (1.3.2)\n",
      "Requirement already satisfied: regex>=2021.8.3 in /opt/app-root/lib/python3.9/site-packages (from nltk==3.8.1->promptbench) (2023.12.25)\n",
      "Requirement already satisfied: anyio<4,>=3.5.0 in /opt/app-root/lib/python3.9/site-packages (from openai==1.3.7->promptbench) (3.7.1)\n",
      "Requirement already satisfied: distro<2,>=1.7.0 in /opt/app-root/lib/python3.9/site-packages (from openai==1.3.7->promptbench) (1.9.0)\n",
      "Requirement already satisfied: httpx<1,>=0.23.0 in /opt/app-root/lib/python3.9/site-packages (from openai==1.3.7->promptbench) (0.27.0)\n",
      "Requirement already satisfied: pydantic<3,>=1.9.0 in /opt/app-root/lib/python3.9/site-packages (from openai==1.3.7->promptbench) (1.10.14)\n",
      "Requirement already satisfied: sniffio in /opt/app-root/lib/python3.9/site-packages (from openai==1.3.7->promptbench) (1.3.0)\n",
      "Requirement already satisfied: typing-extensions<5,>=4.5 in /opt/app-root/lib/python3.9/site-packages (from openai==1.3.7->promptbench) (4.9.0)\n",
      "Requirement already satisfied: filelock in /opt/app-root/lib/python3.9/site-packages (from torch==2.1.1->promptbench) (3.13.1)\n",
      "Requirement already satisfied: sympy in /opt/app-root/lib/python3.9/site-packages (from torch==2.1.1->promptbench) (1.12)\n",
      "Requirement already satisfied: networkx in /opt/app-root/lib/python3.9/site-packages (from torch==2.1.1->promptbench) (3.2.1)\n",
      "Requirement already satisfied: jinja2 in /opt/app-root/lib/python3.9/site-packages (from torch==2.1.1->promptbench) (3.1.3)\n",
      "Requirement already satisfied: nvidia-cuda-nvrtc-cu12==12.1.105 in /opt/app-root/lib/python3.9/site-packages (from torch==2.1.1->promptbench) (12.1.105)\n",
      "Requirement already satisfied: nvidia-cuda-runtime-cu12==12.1.105 in /opt/app-root/lib/python3.9/site-packages (from torch==2.1.1->promptbench) (12.1.105)\n",
      "Requirement already satisfied: nvidia-cuda-cupti-cu12==12.1.105 in /opt/app-root/lib/python3.9/site-packages (from torch==2.1.1->promptbench) (12.1.105)\n",
      "Requirement already satisfied: nvidia-cudnn-cu12==8.9.2.26 in /opt/app-root/lib/python3.9/site-packages (from torch==2.1.1->promptbench) (8.9.2.26)\n",
      "Requirement already satisfied: nvidia-cublas-cu12==12.1.3.1 in /opt/app-root/lib/python3.9/site-packages (from torch==2.1.1->promptbench) (12.1.3.1)\n",
      "Requirement already satisfied: nvidia-cufft-cu12==11.0.2.54 in /opt/app-root/lib/python3.9/site-packages (from torch==2.1.1->promptbench) (11.0.2.54)\n",
      "Requirement already satisfied: nvidia-curand-cu12==10.3.2.106 in /opt/app-root/lib/python3.9/site-packages (from torch==2.1.1->promptbench) (10.3.2.106)\n",
      "Requirement already satisfied: nvidia-cusolver-cu12==11.4.5.107 in /opt/app-root/lib/python3.9/site-packages (from torch==2.1.1->promptbench) (11.4.5.107)\n",
      "Requirement already satisfied: nvidia-cusparse-cu12==12.1.0.106 in /opt/app-root/lib/python3.9/site-packages (from torch==2.1.1->promptbench) (12.1.0.106)\n",
      "Requirement already satisfied: nvidia-nccl-cu12==2.18.1 in /opt/app-root/lib/python3.9/site-packages (from torch==2.1.1->promptbench) (2.18.1)\n",
      "Requirement already satisfied: nvidia-nvtx-cu12==12.1.105 in /opt/app-root/lib/python3.9/site-packages (from torch==2.1.1->promptbench) (12.1.105)\n",
      "Requirement already satisfied: triton==2.1.0 in /opt/app-root/lib/python3.9/site-packages (from torch==2.1.1->promptbench) (2.1.0)\n",
      "Requirement already satisfied: nvidia-nvjitlink-cu12 in /opt/app-root/lib/python3.9/site-packages (from nvidia-cusolver-cu12==11.4.5.107->torch==2.1.1->promptbench) (12.4.99)\n",
      "Requirement already satisfied: idna>=2.8 in /opt/app-root/lib/python3.9/site-packages (from anyio<4,>=3.5.0->openai==1.3.7->promptbench) (3.6)\n",
      "Requirement already satisfied: exceptiongroup in /opt/app-root/lib/python3.9/site-packages (from anyio<4,>=3.5.0->openai==1.3.7->promptbench) (1.2.0)\n",
      "Requirement already satisfied: aiosignal>=1.1.2 in /opt/app-root/lib/python3.9/site-packages (from aiohttp->datasets==2.15.0->promptbench) (1.3.1)\n",
      "Requirement already satisfied: attrs>=17.3.0 in /opt/app-root/lib/python3.9/site-packages (from aiohttp->datasets==2.15.0->promptbench) (23.2.0)\n",
      "Requirement already satisfied: frozenlist>=1.1.1 in /opt/app-root/lib/python3.9/site-packages (from aiohttp->datasets==2.15.0->promptbench) (1.4.1)\n",
      "Requirement already satisfied: multidict<7.0,>=4.5 in /opt/app-root/lib/python3.9/site-packages (from aiohttp->datasets==2.15.0->promptbench) (6.0.5)\n",
      "Requirement already satisfied: yarl<2.0,>=1.0 in /opt/app-root/lib/python3.9/site-packages (from aiohttp->datasets==2.15.0->promptbench) (1.9.4)\n",
      "Requirement already satisfied: async-timeout<5.0,>=4.0 in /opt/app-root/lib/python3.9/site-packages (from aiohttp->datasets==2.15.0->promptbench) (4.0.3)\n",
      "Requirement already satisfied: certifi in /opt/app-root/lib/python3.9/site-packages (from httpx<1,>=0.23.0->openai==1.3.7->promptbench) (2024.2.2)\n",
      "Requirement already satisfied: httpcore==1.* in /opt/app-root/lib/python3.9/site-packages (from httpx<1,>=0.23.0->openai==1.3.7->promptbench) (1.0.4)\n",
      "Requirement already satisfied: h11<0.15,>=0.13 in /opt/app-root/lib/python3.9/site-packages (from httpcore==1.*->httpx<1,>=0.23.0->openai==1.3.7->promptbench) (0.14.0)\n",
      "Requirement already satisfied: charset-normalizer<4,>=2 in /opt/app-root/lib/python3.9/site-packages (from requests>=2.19.0->datasets==2.15.0->promptbench) (3.3.2)\n",
      "Requirement already satisfied: urllib3<3,>=1.21.1 in /opt/app-root/lib/python3.9/site-packages (from requests>=2.19.0->datasets==2.15.0->promptbench) (1.26.18)\n",
      "Requirement already satisfied: MarkupSafe>=2.0 in /opt/app-root/lib/python3.9/site-packages (from jinja2->torch==2.1.1->promptbench) (2.1.5)\n",
      "Requirement already satisfied: python-dateutil>=2.8.1 in /opt/app-root/lib/python3.9/site-packages (from pandas->datasets==2.15.0->promptbench) (2.8.2)\n",
      "Requirement already satisfied: pytz>=2020.1 in /opt/app-root/lib/python3.9/site-packages (from pandas->datasets==2.15.0->promptbench) (2024.1)\n",
      "Requirement already satisfied: mpmath>=0.19 in /opt/app-root/lib/python3.9/site-packages (from sympy->torch==2.1.1->promptbench) (1.3.0)\n",
      "Requirement already satisfied: six>=1.5 in /opt/app-root/lib/python3.9/site-packages (from python-dateutil>=2.8.1->pandas->datasets==2.15.0->promptbench) (1.16.0)\n",
      "Downloading transformers-4.35.2-py3-none-any.whl (7.9 MB)\n",
      "\u001b[2K   \u001b[90m━━━━━━━━━━━━━━━━━━━━━━━━━━━━━━━━━━━━━━━━\u001b[0m \u001b[32m7.9/7.9 MB\u001b[0m \u001b[31m92.0 MB/s\u001b[0m eta \u001b[36m0:00:00\u001b[0ma \u001b[36m0:00:01\u001b[0m\n",
      "\u001b[?25hInstalling collected packages: transformers\n",
      "  Attempting uninstall: transformers\n",
      "    Found existing installation: transformers 4.36.2\n",
      "    Uninstalling transformers-4.36.2:\n",
      "      Successfully uninstalled transformers-4.36.2\n",
      "Successfully installed transformers-4.35.2\n"
     ]
    }
   ],
   "source": [
    "\n",
    "\n",
    "!pip install --no-cache-dir --no-dependencies --disable-pip-version-check -r requirements.txt # Uncomment only if you have not selected the right workbench image\n",
    "!pip install promptbench"
   ]
  },
  {
   "cell_type": "code",
   "execution_count": 25,
   "metadata": {},
   "outputs": [],
   "source": [
    "import promptbench as pb\n",
    "from promptbench.models import LLMModel\n",
    "from promptbench.dyval import *\n",
    "from promptbench.dyval.DAG.math_dag import ArithmeticDAG, ArithmeticDAGDescriber\n",
    "from promptbench.dyval.DAG.logic_dag import BoolDAG, BoolDAGDescriber\n",
    "\n",
    "#from promptbench.dyval import DyValDataset\n",
    "#from promptbench.dyval import DAG\n",
    "\n"
   ]
  },
  {
   "cell_type": "code",
   "execution_count": 26,
   "metadata": {},
   "outputs": [
    {
     "name": "stdout",
     "output_type": "stream",
     "text": [
      "['arithmetic', 'linear_equation', 'bool_logic', 'deductive_logic', 'abductive_logic', 'reachability', 'max_sum_path']\n"
     ]
    },
    {
     "name": "stderr",
     "output_type": "stream",
     "text": [
      "  0%|          | 0/500 [00:00<?, ?it/s]\n"
     ]
    },
    {
     "ename": "ModuleNotFoundError",
     "evalue": "No module named 'promptbench.dyval.DAG'",
     "output_type": "error",
     "traceback": [
      "\u001b[0;31m---------------------------------------------------------------------------\u001b[0m",
      "\u001b[0;31mModuleNotFoundError\u001b[0m                       Traceback (most recent call last)",
      "Cell \u001b[0;32mIn[26], line 7\u001b[0m\n\u001b[1;32m      4\u001b[0m prompts \u001b[38;5;241m=\u001b[39m DYVAL_PROMPTS[dataset_name]\n\u001b[1;32m      6\u001b[0m \u001b[38;5;66;03m# create dataset and model\u001b[39;00m\n\u001b[0;32m----> 7\u001b[0m dataset \u001b[38;5;241m=\u001b[39m \u001b[43mDyValDataset\u001b[49m\u001b[43m(\u001b[49m\u001b[43mdataset_name\u001b[49m\u001b[43m,\u001b[49m\u001b[43m \u001b[49m\n\u001b[1;32m      8\u001b[0m \u001b[43m                        \u001b[49m\u001b[43mis_trainset\u001b[49m\u001b[38;5;241;43m=\u001b[39;49m\u001b[38;5;28;43;01mFalse\u001b[39;49;00m\u001b[43m,\u001b[49m\u001b[43m \u001b[49m\u001b[38;5;66;43;03m# if true, it will generate a training dataset including inference steps for each problem\u001b[39;49;00m\n\u001b[1;32m      9\u001b[0m \u001b[43m                        \u001b[49m\u001b[43mnum_samples\u001b[49m\u001b[38;5;241;43m=\u001b[39;49m\u001b[38;5;241;43m500\u001b[39;49m\u001b[43m,\u001b[49m\u001b[43m \u001b[49m\u001b[38;5;66;43;03m# number of samples generated\u001b[39;49;00m\n\u001b[1;32m     10\u001b[0m \u001b[43m                        \u001b[49m\u001b[43mnum_nodes_per_sample\u001b[49m\u001b[38;5;241;43m=\u001b[39;49m\u001b[38;5;241;43m10\u001b[39;49m\u001b[43m,\u001b[49m\u001b[43m \u001b[49m\u001b[38;5;66;43;03m# number of nodes per sample, used in general DAG generation\u001b[39;49;00m\n\u001b[1;32m     11\u001b[0m \u001b[43m                        \u001b[49m\u001b[43mmin_links_per_node\u001b[49m\u001b[38;5;241;43m=\u001b[39;49m\u001b[38;5;241;43m1\u001b[39;49m\u001b[43m,\u001b[49m\u001b[43m \u001b[49m\u001b[38;5;66;43;03m# minimum number of links per node, used in general DAG generation\u001b[39;49;00m\n\u001b[1;32m     12\u001b[0m \u001b[43m                        \u001b[49m\u001b[43mmax_links_per_node\u001b[49m\u001b[38;5;241;43m=\u001b[39;49m\u001b[38;5;241;43m4\u001b[39;49m\u001b[43m,\u001b[49m\u001b[43m \u001b[49m\u001b[38;5;66;43;03m# maximum number of links per node, used in general DAG generation\u001b[39;49;00m\n\u001b[1;32m     13\u001b[0m \u001b[43m                        \u001b[49m\u001b[43mdepth\u001b[49m\u001b[38;5;241;43m=\u001b[39;49m\u001b[38;5;241;43m3\u001b[39;49m\u001b[43m,\u001b[49m\u001b[43m \u001b[49m\u001b[38;5;66;43;03m# depth of the DAG, used in tree DAG generation\u001b[39;49;00m\n\u001b[1;32m     14\u001b[0m \u001b[43m                        \u001b[49m\u001b[43mnum_children_per_node\u001b[49m\u001b[38;5;241;43m=\u001b[39;49m\u001b[38;5;241;43m2\u001b[39;49m\u001b[43m,\u001b[49m\u001b[43m \u001b[49m\u001b[38;5;66;43;03m# number of children per node, used in tree DAG generation\u001b[39;49;00m\n\u001b[1;32m     15\u001b[0m \u001b[43m                        \u001b[49m\u001b[43mextra_links_per_node\u001b[49m\u001b[38;5;241;43m=\u001b[39;49m\u001b[38;5;241;43m0\u001b[39;49m\u001b[43m,\u001b[49m\u001b[43m \u001b[49m\u001b[38;5;66;43;03m# it controls if we add extra links per node to add complexity\u001b[39;49;00m\n\u001b[1;32m     16\u001b[0m \u001b[43m                        \u001b[49m\u001b[43madd_rand_desc\u001b[49m\u001b[38;5;241;43m=\u001b[39;49m\u001b[38;5;241;43m0\u001b[39;49m\u001b[43m,\u001b[49m\u001b[43m \u001b[49m\u001b[38;5;66;43;03m# it controls if we add random descriptions to the nodes to add complexity\u001b[39;49;00m\n\u001b[1;32m     17\u001b[0m \u001b[43m                        \u001b[49m\u001b[43mdelete_desc\u001b[49m\u001b[38;5;241;43m=\u001b[39;49m\u001b[38;5;241;43m0\u001b[39;49m\u001b[43m,\u001b[49m\u001b[43m \u001b[49m\u001b[38;5;66;43;03m# it controls if we delete descriptions to the nodes, if delete, the problem is unsolvable since some nodes are not described\u001b[39;49;00m\n\u001b[1;32m     18\u001b[0m \u001b[43m                        \u001b[49m\u001b[43madd_cycles\u001b[49m\u001b[38;5;241;43m=\u001b[39;49m\u001b[38;5;241;43m0\u001b[39;49m\u001b[43m,\u001b[49m\u001b[43m \u001b[49m\u001b[38;5;66;43;03m# it controls if we add cycles to the DAG, if add, the problem is unsolvable since there are loops\u001b[39;49;00m\n\u001b[1;32m     19\u001b[0m \u001b[43m                        \u001b[49m\u001b[43m)\u001b[49m\n",
      "File \u001b[0;32m/opt/app-root/lib64/python3.9/site-packages/promptbench/dyval/dyval_dataset.py:90\u001b[0m, in \u001b[0;36mDyValDataset.__init__\u001b[0;34m(self, dataset_type, is_trainset, num_samples, num_nodes_per_sample, min_links_per_node, max_links_per_node, depth, num_children_per_node, extra_links_per_node, add_rand_desc, delete_desc, add_cycles, num_dags)\u001b[0m\n\u001b[1;32m     86\u001b[0m \u001b[38;5;28mself\u001b[39m\u001b[38;5;241m.\u001b[39madd_cycles \u001b[38;5;241m=\u001b[39m add_cycles\n\u001b[1;32m     88\u001b[0m \u001b[38;5;28mself\u001b[39m\u001b[38;5;241m.\u001b[39mnum_dags \u001b[38;5;241m=\u001b[39m num_dags\n\u001b[0;32m---> 90\u001b[0m \u001b[38;5;28mself\u001b[39m\u001b[38;5;241m.\u001b[39mdata \u001b[38;5;241m=\u001b[39m \u001b[38;5;28;43mself\u001b[39;49m\u001b[38;5;241;43m.\u001b[39;49m\u001b[43mcreate_dataset\u001b[49m\u001b[43m(\u001b[49m\u001b[43m)\u001b[49m\n",
      "File \u001b[0;32m/opt/app-root/lib64/python3.9/site-packages/promptbench/dyval/dyval_dataset.py:102\u001b[0m, in \u001b[0;36mDyValDataset.create_dataset\u001b[0;34m(self)\u001b[0m\n\u001b[1;32m    100\u001b[0m \u001b[38;5;66;03m# data = {\"descriptions\": {}, \"answers\": []}\u001b[39;00m\n\u001b[1;32m    101\u001b[0m \u001b[38;5;28;01mfor\u001b[39;00m _ \u001b[38;5;129;01min\u001b[39;00m tqdm(\u001b[38;5;28mrange\u001b[39m(\u001b[38;5;28mself\u001b[39m\u001b[38;5;241m.\u001b[39mnum_samples)):\n\u001b[0;32m--> 102\u001b[0m     sample \u001b[38;5;241m=\u001b[39m \u001b[38;5;28;43mself\u001b[39;49m\u001b[38;5;241;43m.\u001b[39;49m\u001b[43m_generate_sample\u001b[49m\u001b[43m(\u001b[49m\u001b[43m)\u001b[49m\n\u001b[1;32m    103\u001b[0m     processed \u001b[38;5;241m=\u001b[39m {}\n\u001b[1;32m    104\u001b[0m     \u001b[38;5;66;03m# first record all the keys except \"descriptions\"\u001b[39;00m\n",
      "File \u001b[0;32m/opt/app-root/lib64/python3.9/site-packages/promptbench/dyval/dyval_dataset.py:156\u001b[0m, in \u001b[0;36mDyValDataset._generate_sample\u001b[0;34m(self, **kwargs)\u001b[0m\n\u001b[1;32m    153\u001b[0m num_dags \u001b[38;5;241m=\u001b[39m kwargs\u001b[38;5;241m.\u001b[39mget(\u001b[38;5;124m\"\u001b[39m\u001b[38;5;124mnum_dags\u001b[39m\u001b[38;5;124m\"\u001b[39m, \u001b[38;5;28mself\u001b[39m\u001b[38;5;241m.\u001b[39mnum_dags)\n\u001b[1;32m    155\u001b[0m \u001b[38;5;28;01mif\u001b[39;00m dataset_type \u001b[38;5;129;01min\u001b[39;00m [\u001b[38;5;124m\"\u001b[39m\u001b[38;5;124marithmetic\u001b[39m\u001b[38;5;124m\"\u001b[39m, \u001b[38;5;124m\"\u001b[39m\u001b[38;5;124mbool_logic\u001b[39m\u001b[38;5;124m\"\u001b[39m]:\n\u001b[0;32m--> 156\u001b[0m     \u001b[38;5;28;01mfrom\u001b[39;00m \u001b[38;5;21;01m.\u001b[39;00m\u001b[38;5;21;01mDAG\u001b[39;00m\u001b[38;5;21;01m.\u001b[39;00m\u001b[38;5;21;01mmath_dag\u001b[39;00m \u001b[38;5;28;01mimport\u001b[39;00m ArithmeticDAG, ArithmeticDAGDescriber\n\u001b[1;32m    157\u001b[0m     \u001b[38;5;28;01mfrom\u001b[39;00m \u001b[38;5;21;01m.\u001b[39;00m\u001b[38;5;21;01mDAG\u001b[39;00m\u001b[38;5;21;01m.\u001b[39;00m\u001b[38;5;21;01mlogic_dag\u001b[39;00m \u001b[38;5;28;01mimport\u001b[39;00m BoolDAG, BoolDAGDescriber\n\u001b[1;32m    159\u001b[0m     \u001b[38;5;28;01mif\u001b[39;00m dataset_type \u001b[38;5;241m==\u001b[39m \u001b[38;5;124m\"\u001b[39m\u001b[38;5;124marithmetic\u001b[39m\u001b[38;5;124m\"\u001b[39m:\n",
      "\u001b[0;31mModuleNotFoundError\u001b[0m: No module named 'promptbench.dyval.DAG'"
     ]
    }
   ],
   "source": [
    "# main function, defines the pipeline of dyval\n",
    "print(pb.dyval.DYVAL_DATASETS)\n",
    "dataset_name = \"arithmetic\"\n",
    "prompts = DYVAL_PROMPTS[dataset_name]\n",
    "\n",
    "# create dataset and model\n",
    "dataset = DyValDataset(dataset_name, \n",
    "                        is_trainset=False, # if true, it will generate a training dataset including inference steps for each problem\n",
    "                        num_samples=500, # number of samples generated\n",
    "                        num_nodes_per_sample=10, # number of nodes per sample, used in general DAG generation\n",
    "                        min_links_per_node=1, # minimum number of links per node, used in general DAG generation\n",
    "                        max_links_per_node=4, # maximum number of links per node, used in general DAG generation\n",
    "                        depth=3, # depth of the DAG, used in tree DAG generation\n",
    "                        num_children_per_node=2, # number of children per node, used in tree DAG generation\n",
    "                        extra_links_per_node=0, # it controls if we add extra links per node to add complexity\n",
    "                        add_rand_desc=0, # it controls if we add random descriptions to the nodes to add complexity\n",
    "                        delete_desc=0, # it controls if we delete descriptions to the nodes, if delete, the problem is unsolvable since some nodes are not described\n",
    "                        add_cycles=0, # it controls if we add cycles to the DAG, if add, the problem is unsolvable since there are loops\n",
    "                        )"
   ]
  },
  {
   "cell_type": "code",
   "execution_count": null,
   "metadata": {},
   "outputs": [],
   "source": [
    "dataset[\"topological\"][0] # sample data"
   ]
  },
  {
   "cell_type": "code",
   "execution_count": null,
   "metadata": {},
   "outputs": [],
   "source": [
    "\n",
    "print(pb.SUPPORTED_MODELS)\n",
    "model = LLMModel(\"google/flan-t5-large\", \n",
    "                max_new_tokens=10, \n",
    "                temperature=0, \n",
    "                model_dir=None,\n",
    "                openai_key=None,\n",
    "                sleep_time=3\n",
    "                )\n"
   ]
  },
  {
   "cell_type": "code",
   "execution_count": null,
   "metadata": {},
   "outputs": [],
   "source": [
    "# for each prompt, evaluate the score\n",
    "for prompt in prompts:\n",
    "    score = {}\n",
    "\n",
    "    # three orders of the dataset: topological, reversed, random\n",
    "    for order in [\"topological\"]:\n",
    "    # for order in [\"topological\", \"reversed\", \"random\"]:\n",
    "        data = dataset[order]\n",
    "        preds = []\n",
    "        answers = []\n",
    "        \n",
    "        for d in data[:1]:\n",
    "            input_text = pb.InputProcess.basic_format(prompt, d)\n",
    "            raw_pred = model(input_text)\n",
    "\n",
    "            # dyval preds are processed differently, please refer to the source code /promptbench/dyval/dyval_utils.py\n",
    "            pred = process_dyval_preds(raw_pred)\n",
    "            preds.append(pred)\n",
    "            answers.append(d[\"answers\"])\n",
    "\n",
    "            print(f\"Input: {input_text}\")\n",
    "            print(f\"Raw Pred: {raw_pred}\")\n",
    "            print(f\"Pred: {pred}\")\n",
    "            print(f\"Answer: {d['answers']}\")\n",
    "            print(\"\\n\")\n",
    "\n",
    "        score[order] = dyval_evaluate(dataset.dataset_type, preds, answers)\n",
    "\n",
    "print(score)"
   ]
  },
  {
   "cell_type": "code",
   "execution_count": null,
   "metadata": {},
   "outputs": [],
   "source": []
  }
 ],
 "metadata": {
  "kernelspec": {
   "display_name": "Python 3.9",
   "language": "python",
   "name": "python3"
  },
  "language_info": {
   "codemirror_mode": {
    "name": "ipython",
    "version": 3
   },
   "file_extension": ".py",
   "mimetype": "text/x-python",
   "name": "python",
   "nbconvert_exporter": "python",
   "pygments_lexer": "ipython3",
   "version": "3.9.18"
  }
 },
 "nbformat": 4,
 "nbformat_minor": 4
}
